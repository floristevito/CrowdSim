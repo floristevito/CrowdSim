{
 "cells": [
  {
   "cell_type": "code",
   "execution_count": null,
   "metadata": {},
   "outputs": [],
   "source": [
    "from ema_workbench import load_results\n",
    "from SALib.analyze import sobol\n",
    "import pandas as pd\n",
    "import seaborn as sns\n",
    "import matplotlib.pyplot as plt"
   ]
  },
  {
   "cell_type": "code",
   "execution_count": null,
   "metadata": {},
   "outputs": [],
   "source": [
    "worst_scenarios = pd.read_csv(\"../data/output/EMA/directedSearch.csv\")"
   ]
  },
  {
   "cell_type": "code",
   "execution_count": null,
   "metadata": {},
   "outputs": [],
   "source": [
    "convergence = pd.read_csv(\"../data/output/EMA/directedSearchConvergence.csv\")"
   ]
  },
  {
   "cell_type": "code",
   "execution_count": null,
   "metadata": {},
   "outputs": [],
   "source": [
    "# plot convergence\n",
    "    fig, (ax1, ax2) = plt.subplots(ncols=2, sharex=True, figsize=(8, 4))\n",
    "    ax1.plot(convergence.nfe, convergence.epsilon_progress)\n",
    "    ax1.set_ylabel(\"$\\epsilon$-progress\")\n",
    "    ax2.plot(convergence.nfe, convergence.hypervolume)\n",
    "    ax2.set_ylabel(\"hypervolume\")\n",
    "\n",
    "    ax1.set_xlabel(\"number of function evaluations\")\n",
    "    ax2.set_xlabel(\"number of function evaluations\")"
   ]
  },
  {
   "cell_type": "code",
   "execution_count": null,
   "metadata": {},
   "outputs": [],
   "source": []
  }
 ],
 "metadata": {
  "language_info": {
   "name": "python"
  },
  "orig_nbformat": 4
 },
 "nbformat": 4,
 "nbformat_minor": 2
}
