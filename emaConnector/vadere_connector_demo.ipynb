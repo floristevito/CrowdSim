{
 "cells": [
  {
   "cell_type": "markdown",
   "metadata": {},
   "source": [
    "# Vadere ema connector demo\n",
    "For more information on the use of the EMA Workbech, please refer to the [official EMA Workbench documentation.](https://emaworkbench.readthedocs.io/en/latest/)"
   ]
  },
  {
   "cell_type": "markdown",
   "metadata": {},
   "source": [
    "## Step 1: imports\n",
    "The first step is to import the needed modules. This depends on the use and the type of analysis that is intended. The most important one here is the VadereModel from the model connectors. As said, please refer for more information on this to the official EMA Workbench documentation."
   ]
  },
  {
   "cell_type": "code",
   "execution_count": null,
   "metadata": {},
   "outputs": [],
   "source": [
    "from ema_workbench import (erform_experiments,\n",
    "                           RealParameter, ema_logging, CategoricalParameter,\n",
    "                           MultiprocessingEvaluator,\n",
    "                           ScalarOutcome, IntegerParameter)\n",
    "from ema_workbench.em_framework.parameters import Category\n",
    "from ema_workbench.connectors.vadere import VadereModel"
   ]
  },
  {
   "cell_type": "markdown",
   "metadata": {},
   "source": [
    "## Step 2: Setting up the model"
   ]
  },
  {
   "cell_type": "code",
   "execution_count": null,
   "metadata": {},
   "outputs": [],
   "source": [
    "model = VadereModel('model', \n",
    "                    vadere_jar='vadere-console.jar',\n",
    "                    processor_files=[\n",
    "                        'density.txt',\n",
    "                        'speed.txt'\n",
    "                    ],\n",
    "                    model_file='base_case.scenario',\n",
    "                    wd='/home/tevito/Documents/EPA/Year2/thesis/thesis-drive/model/connector/output')\n"
   ]
  },
  {
   "cell_type": "code",
   "execution_count": null,
   "metadata": {},
   "outputs": [],
   "source": [
    "model.uncertainties = [\n",
    "    IntegerParameter(\n",
    "        name='pedestrian flow source 0',\n",
    "        lower_bound=50,\n",
    "        upper_bound=100,\n",
    "        variable_name=[\n",
    "            '(\"scenario\", \"topography\", \"sources\", 0, \"spawnNumber\")',\n",
    "            '(\"scenario\", \"topography\", \"sources\", 0, \"maxSpawnNumberTotal\")'\n",
    "        ]\n",
    "    ),\n",
    "    IntegerParameter(\n",
    "        name='pedestrian flow source 1',\n",
    "        lower_bound=20,\n",
    "        upper_bound=30,\n",
    "        variable_name=[\n",
    "            '(\"scenario\", \"topography\", \"sources\", 1, \"spawnNumber\")',\n",
    "            '(\"scenario\", \"topography\", \"sources\", 1, \"maxSpawnNumberTotal\")'\n",
    "        ]\n",
    "    )\n",
    "]"
   ]
  },
  {
   "cell_type": "code",
   "execution_count": null,
   "metadata": {},
   "outputs": [],
   "source": [
    "model.outcomes = [\n",
    "    ScalarOutcome('mean_area_speed_processor-PID4'),\n",
    "]"
   ]
  },
  {
   "cell_type": "markdown",
   "metadata": {},
   "source": [
    "## Step 3: Performing experiments"
   ]
  },
  {
   "cell_type": "code",
   "execution_count": null,
   "metadata": {},
   "outputs": [],
   "source": [
    "results_sequential = perform_experiments(model, 1)"
   ]
  },
  {
   "cell_type": "code",
   "execution_count": null,
   "metadata": {},
   "outputs": [],
   "source": [
    "with MultiprocessingEvaluator(model, n_processes=4) as evaluator:\n",
    "        results_parallel = evaluator.perform_experiments(4)"
   ]
  },
  {
   "cell_type": "code",
   "execution_count": null,
   "metadata": {},
   "outputs": [],
   "source": []
  }
 ],
 "metadata": {
  "language_info": {
   "name": "python"
  },
  "orig_nbformat": 4
 },
 "nbformat": 4,
 "nbformat_minor": 2
}
