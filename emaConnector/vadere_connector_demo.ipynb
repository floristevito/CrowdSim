{
 "cells": [
  {
   "cell_type": "markdown",
   "metadata": {},
   "source": [
    "# Vadere EMA connector demo\n",
    "For more information on the use of the EMA Workbench, please refer to the [official EMA Workbench documentation](https://emaworkbench.readthedocs.io/en/latest/). This demo is based on the code provided on the documentation pages."
   ]
  },
  {
   "cell_type": "markdown",
   "metadata": {},
   "source": [
    "## Step 1: imports\n",
    "The first step is to import the needed modules. This depends on the use and the type of analysis that is intended. The most important one here is the VadereModel from the model connectors. As said, please refer for more information on this to the [official EMA Workbench documentation](https://emaworkbench.readthedocs.io/en/latest/)."
   ]
  },
  {
   "cell_type": "code",
   "execution_count": 1,
   "metadata": {},
   "outputs": [
    {
     "name": "stderr",
     "output_type": "stream",
     "text": [
      "/home/tevito/anaconda3/envs/CrowdSim/lib/python3.10/site-packages/ema_workbench-2.0.10-py3.10.egg/ema_workbench/connectors/__init__.py:17: ImportWarning: vensim connector not available\n",
      "  warnings.warn(\"vensim connector not available\", ImportWarning)\n",
      "/home/tevito/anaconda3/envs/CrowdSim/lib/python3.10/site-packages/ema_workbench-2.0.10-py3.10.egg/ema_workbench/connectors/__init__.py:27: ImportWarning: netlogo connector not available\n",
      "  warnings.warn(\"netlogo connector not available\", ImportWarning)\n"
     ]
    }
   ],
   "source": [
    "from ema_workbench import (perform_experiments, RealParameter, ema_logging,\n",
    "                           CategoricalParameter, MultiprocessingEvaluator,\n",
    "                           ScalarOutcome, IntegerParameter, RealParameter)\n",
    "from ema_workbench.em_framework.parameters import Category\n",
    "from ema_workbench.connectors.vadere import VadereModel\n",
    "import pandas as pd\n",
    "import numpy as np"
   ]
  },
  {
   "cell_type": "markdown",
   "metadata": {},
   "source": [
    "## Step 2: Setting up the model\n",
    "In this example, we use the Vadere model from this research.  "
   ]
  },
  {
   "cell_type": "code",
   "execution_count": 2,
   "metadata": {},
   "outputs": [],
   "source": [
    "# This model saves scalar results to a density.txt and speed.txt file.\n",
    "model = VadereModel('model', \n",
    "                    vadere_jar='vadere-console.jar',\n",
    "                    processor_files=[\n",
    "                        'density.txt',\n",
    "                        'speed.txt'\n",
    "                    ],\n",
    "                    model_file='baseCaseData.scenario',\n",
    "                    wd='/home/tevito/Documents/EPA/Year2/thesis/git/CrowdSim/analysis/emaWorkingDirectory')"
   ]
  },
  {
   "cell_type": "code",
   "execution_count": 3,
   "metadata": {},
   "outputs": [],
   "source": [
    "# set the number of replications to handle model stochasticity\n",
    "model.replications = 2"
   ]
  },
  {
   "cell_type": "markdown",
   "metadata": {},
   "source": [
    "Note that for specifying model uncertainties (and potential levers), the Vadere model class can change any variable present in the model file (Vadere scenario). To realise this, a exact location to the variable of interest in the Vadere scenario file has to be specified. Vadere scenario files follow a nested dictionary structure. Therefore, the exact location of the variable should be passed in a list of argumentes, passed as one string. See the example below, that variates the spawnNumber and maxSpawnNumber of source 0 and source 1 in the Vadere model."
   ]
  },
  {
   "cell_type": "code",
   "execution_count": 4,
   "metadata": {},
   "outputs": [],
   "source": [
    "model.uncertainties = [\n",
    "    IntegerParameter(\n",
    "        name='spawnFrequencyA',\n",
    "        lower_bound=1,\n",
    "        upper_bound=5,\n",
    "        variable_name=[\n",
    "            '(\"scenario\", \"topography\", \"sources\", 0, \"distributionParameters\", \"updateFrequency\")',\n",
    "        ]\n",
    "    ),\n",
    "    RealParameter(\n",
    "        name='μFreeFlowSpeed',\n",
    "        lower_bound=0.66,\n",
    "        upper_bound=1.16,\n",
    "        variable_name=[\n",
    "            '(\"scenario\", \"topography\", \"attributesPedestrian\", \"speedDistributionMean\")',\n",
    "        ]\n",
    "    ),\n",
    "    RealParameter(\n",
    "        name='pedPotentialHeight',\n",
    "        lower_bound=5.0,\n",
    "        upper_bound=50.0,\n",
    "        variable_name=[\n",
    "            '(\"scenario\", \"attributesModel\", \"org.vadere.state.attributes.models.AttributesPotentialCompactSoftshell\", \"pedPotentialHeight\")',\n",
    "        ]\n",
    "    )\n",
    "]"
   ]
  },
  {
   "cell_type": "markdown",
   "metadata": {},
   "source": [
    "The model outcomes can be specified by passing the exact name as present in the output file (speed.txt here). The naming convention depends on the used Vadere data processors, but usually follows the name + id of the processor. When in doubt, it is advised to do a demo Vadere run using the Vadere software and to inspect the generated output files. Note that we take the mean of the outcomes here, since we specified multiple replications."
   ]
  },
  {
   "cell_type": "code",
   "execution_count": 5,
   "metadata": {},
   "outputs": [],
   "source": [
    "model.outcomes = [\n",
    "    ScalarOutcome(\n",
    "        name='meanSpeed',\n",
    "        variable_name='mean_area_speed_processor-PID4',\n",
    "        function=np.mean\n",
    "    ),\n",
    "    ScalarOutcome(\n",
    "        name='meanDensityArea1',\n",
    "        variable_name='mean_density_counting_normed_processor-PID6',\n",
    "        function=np.mean\n",
    "    ),\n",
    "    ScalarOutcome(\n",
    "        name='maxDensityArea1',\n",
    "        variable_name='max_density_counting_normed_processor-PID7',\n",
    "        function=np.mean\n",
    "    ),\n",
    "]"
   ]
  },
  {
   "cell_type": "markdown",
   "metadata": {},
   "source": [
    "## Step 3: Performing experiments\n",
    "The last step is to perform experiment with the Vadere model. Both sequential runs as runs in parallel are supported. Note however that a Vadere run can use a lot of RAM, and using all available CPU cores can lead to performance issues in some cases. "
   ]
  },
  {
   "cell_type": "code",
   "execution_count": 6,
   "metadata": {},
   "outputs": [
    {
     "data": {
      "text/plain": [
       "<Logger EMA (DEBUG)>"
      ]
     },
     "execution_count": 6,
     "metadata": {},
     "output_type": "execute_result"
    }
   ],
   "source": [
    "# enable EMA logging\n",
    "ema_logging.log_to_stderr(ema_logging.INFO)"
   ]
  },
  {
   "cell_type": "code",
   "execution_count": 7,
   "metadata": {},
   "outputs": [
    {
     "name": "stderr",
     "output_type": "stream",
     "text": [
      "[MainProcess/INFO] performing 2 scenarios * 1 policies * 1 model(s) = 2 experiments\n",
      "[MainProcess/INFO] performing experiments sequentially\n",
      "[MainProcess/INFO] 1 cases completed\n",
      "[MainProcess/INFO] 2 cases completed\n",
      "[MainProcess/INFO] experiments finished\n"
     ]
    }
   ],
   "source": [
    "# run in sequential 2 experiments\n",
    "results_sequential = perform_experiments(\n",
    "    model,\n",
    "    scenarios=2,\n",
    "    uncertainty_sampling='lhs'\n",
    ")"
   ]
  },
  {
   "cell_type": "code",
   "execution_count": 12,
   "metadata": {},
   "outputs": [
    {
     "name": "stderr",
     "output_type": "stream",
     "text": [
      "[MainProcess/INFO] pool started\n",
      "[MainProcess/INFO] performing 6 scenarios * 1 policies * 1 model(s) = 6 experiments\n",
      "[MainProcess/INFO] 1 cases completed\n",
      "[MainProcess/INFO] 2 cases completed\n",
      "[MainProcess/INFO] 3 cases completed\n",
      "[MainProcess/INFO] 4 cases completed\n",
      "[MainProcess/INFO] 5 cases completed\n",
      "[MainProcess/INFO] 6 cases completed\n",
      "[MainProcess/INFO] experiments finished\n",
      "[MainProcess/INFO] terminating pool\n",
      "[ForkPoolWorker-7/INFO] finalizing\n",
      "[ForkPoolWorker-8/INFO] finalizing\n",
      "[ForkPoolWorker-9/INFO] finalizing\n",
      "[ForkPoolWorker-10/INFO] finalizing\n",
      "[ForkPoolWorker-12/INFO] finalizing\n",
      "[ForkPoolWorker-11/INFO] finalizing\n"
     ]
    }
   ],
   "source": [
    "# run 6 experiments in parallel\n",
    "with MultiprocessingEvaluator(model, n_processes=6) as evaluator:\n",
    "        experiments, outcomes = evaluator.perform_experiments(\n",
    "                scenarios=6,\n",
    "                uncertainty_sampling='lhs'\n",
    ")"
   ]
  },
  {
   "cell_type": "markdown",
   "metadata": {},
   "source": [
    "## Inspect the results\n",
    "we can now look at the results and plot them. For more extensive exploratory analysis methods, or direct search, please refer to the [official EMA Workbench documentation](https://emaworkbench.readthedocs.io/en/latest/)."
   ]
  },
  {
   "cell_type": "code",
   "execution_count": 9,
   "metadata": {},
   "outputs": [
    {
     "data": {
      "text/html": [
       "<div>\n",
       "<style scoped>\n",
       "    .dataframe tbody tr th:only-of-type {\n",
       "        vertical-align: middle;\n",
       "    }\n",
       "\n",
       "    .dataframe tbody tr th {\n",
       "        vertical-align: top;\n",
       "    }\n",
       "\n",
       "    .dataframe thead th {\n",
       "        text-align: right;\n",
       "    }\n",
       "</style>\n",
       "<table border=\"1\" class=\"dataframe\">\n",
       "  <thead>\n",
       "    <tr style=\"text-align: right;\">\n",
       "      <th></th>\n",
       "      <th>pedPotentialHeight</th>\n",
       "      <th>spawnFrequencyA</th>\n",
       "      <th>μFreeFlowSpeed</th>\n",
       "      <th>scenario</th>\n",
       "      <th>policy</th>\n",
       "      <th>model</th>\n",
       "    </tr>\n",
       "  </thead>\n",
       "  <tbody>\n",
       "    <tr>\n",
       "      <th>0</th>\n",
       "      <td>40.542542</td>\n",
       "      <td>5.0</td>\n",
       "      <td>0.988531</td>\n",
       "      <td>2</td>\n",
       "      <td>None</td>\n",
       "      <td>model</td>\n",
       "    </tr>\n",
       "    <tr>\n",
       "      <th>1</th>\n",
       "      <td>21.958055</td>\n",
       "      <td>2.0</td>\n",
       "      <td>0.784645</td>\n",
       "      <td>3</td>\n",
       "      <td>None</td>\n",
       "      <td>model</td>\n",
       "    </tr>\n",
       "    <tr>\n",
       "      <th>2</th>\n",
       "      <td>29.938761</td>\n",
       "      <td>4.0</td>\n",
       "      <td>1.013093</td>\n",
       "      <td>4</td>\n",
       "      <td>None</td>\n",
       "      <td>model</td>\n",
       "    </tr>\n",
       "    <tr>\n",
       "      <th>3</th>\n",
       "      <td>15.249657</td>\n",
       "      <td>1.0</td>\n",
       "      <td>0.714969</td>\n",
       "      <td>5</td>\n",
       "      <td>None</td>\n",
       "      <td>model</td>\n",
       "    </tr>\n",
       "    <tr>\n",
       "      <th>4</th>\n",
       "      <td>48.134764</td>\n",
       "      <td>2.0</td>\n",
       "      <td>0.836423</td>\n",
       "      <td>6</td>\n",
       "      <td>None</td>\n",
       "      <td>model</td>\n",
       "    </tr>\n",
       "  </tbody>\n",
       "</table>\n",
       "</div>"
      ],
      "text/plain": [
       "   pedPotentialHeight  spawnFrequencyA  μFreeFlowSpeed scenario policy  model\n",
       "0           40.542542              5.0        0.988531        2   None  model\n",
       "1           21.958055              2.0        0.784645        3   None  model\n",
       "2           29.938761              4.0        1.013093        4   None  model\n",
       "3           15.249657              1.0        0.714969        5   None  model\n",
       "4           48.134764              2.0        0.836423        6   None  model"
      ]
     },
     "execution_count": 9,
     "metadata": {},
     "output_type": "execute_result"
    }
   ],
   "source": [
    "experiments.head()"
   ]
  },
  {
   "cell_type": "code",
   "execution_count": 10,
   "metadata": {},
   "outputs": [
    {
     "data": {
      "text/html": [
       "<div>\n",
       "<style scoped>\n",
       "    .dataframe tbody tr th:only-of-type {\n",
       "        vertical-align: middle;\n",
       "    }\n",
       "\n",
       "    .dataframe tbody tr th {\n",
       "        vertical-align: top;\n",
       "    }\n",
       "\n",
       "    .dataframe thead th {\n",
       "        text-align: right;\n",
       "    }\n",
       "</style>\n",
       "<table border=\"1\" class=\"dataframe\">\n",
       "  <thead>\n",
       "    <tr style=\"text-align: right;\">\n",
       "      <th></th>\n",
       "      <th>meanSpeed</th>\n",
       "      <th>meanDensityArea1</th>\n",
       "      <th>maxDensityArea1</th>\n",
       "    </tr>\n",
       "  </thead>\n",
       "  <tbody>\n",
       "    <tr>\n",
       "      <th>0</th>\n",
       "      <td>0.686071</td>\n",
       "      <td>0.354170</td>\n",
       "      <td>0.673460</td>\n",
       "    </tr>\n",
       "    <tr>\n",
       "      <th>1</th>\n",
       "      <td>0.604619</td>\n",
       "      <td>0.387003</td>\n",
       "      <td>0.770935</td>\n",
       "    </tr>\n",
       "    <tr>\n",
       "      <th>2</th>\n",
       "      <td>0.736225</td>\n",
       "      <td>0.339590</td>\n",
       "      <td>0.726628</td>\n",
       "    </tr>\n",
       "    <tr>\n",
       "      <th>3</th>\n",
       "      <td>0.570932</td>\n",
       "      <td>0.367198</td>\n",
       "      <td>0.850687</td>\n",
       "    </tr>\n",
       "    <tr>\n",
       "      <th>4</th>\n",
       "      <td>0.598715</td>\n",
       "      <td>0.497858</td>\n",
       "      <td>1.151972</td>\n",
       "    </tr>\n",
       "  </tbody>\n",
       "</table>\n",
       "</div>"
      ],
      "text/plain": [
       "   meanSpeed  meanDensityArea1  maxDensityArea1\n",
       "0   0.686071          0.354170         0.673460\n",
       "1   0.604619          0.387003         0.770935\n",
       "2   0.736225          0.339590         0.726628\n",
       "3   0.570932          0.367198         0.850687\n",
       "4   0.598715          0.497858         1.151972"
      ]
     },
     "execution_count": 10,
     "metadata": {},
     "output_type": "execute_result"
    }
   ],
   "source": [
    "pd.DataFrame(outcomes).head()"
   ]
  },
  {
   "cell_type": "code",
   "execution_count": 11,
   "metadata": {},
   "outputs": [
    {
     "name": "stderr",
     "output_type": "stream",
     "text": [
      "<frozen importlib._bootstrap>:914: ImportWarning: ShimImporter.find_spec() not found; falling back to find_module()\n",
      "<frozen importlib._bootstrap>:914: ImportWarning: ShimImporter.find_spec() not found; falling back to find_module()\n",
      "<frozen importlib._bootstrap>:914: ImportWarning: ShimImporter.find_spec() not found; falling back to find_module()\n",
      "[MainProcess/INFO] no time dimension found in results\n"
     ]
    },
    {
     "data": {
      "image/png": "[encoded data removed]",
      "text/plain": [
       "<Figure size 576x576 with 9 Axes>"
      ]
     },
     "metadata": {
      "needs_background": "light"
     },
     "output_type": "display_data"
    }
   ],
   "source": [
    "from ema_workbench.analysis import pairs_plotting\n",
    "import matplotlib.pyplot as plt\n",
    "\n",
    "fig, axes = pairs_plotting.pairs_scatter(experiments, outcomes,\n",
    "                                        legend=False)\n",
    "fig.set_size_inches(8,8)\n",
    "plt.show()"
   ]
  }
 ],
 "metadata": {
  "interpreter": {
   "hash": "0459880e260e094fc619a34e1d6d301a09b9955f38537d5834804b8e9b557f55"
  },
  "kernelspec": {
   "display_name": "Python 3.10.0 ('CrowdSim')",
   "language": "python",
   "name": "python3"
  },
  "language_info": {
   "codemirror_mode": {
    "name": "ipython",
    "version": 3
   },
   "file_extension": ".py",
   "mimetype": "text/x-python",
   "name": "python",
   "nbconvert_exporter": "python",
   "pygments_lexer": "ipython3",
   "version": "3.10.0"
  },
  "orig_nbformat": 4
 },
 "nbformat": 4,
 "nbformat_minor": 2
}
