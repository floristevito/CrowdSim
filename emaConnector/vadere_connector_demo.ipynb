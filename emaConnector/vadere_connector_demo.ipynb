{
 "cells": [
  {
   "cell_type": "markdown",
   "metadata": {},
   "source": [
    "# Vadere ema connector demo\n",
    "For more information on the use of the EMA Workbech, please refer to the [official EMA Workbench documentation](https://emaworkbench.readthedocs.io/en/latest/)."
   ]
  },
  {
   "cell_type": "markdown",
   "metadata": {},
   "source": [
    "## Step 1: imports\n",
    "The first step is to import the needed modules. This depends on the use and the type of analysis that is intended. The most important one here is the VadereModel from the model connectors. As said, please refer for more information on this to the [official EMA Workbench documentation](https://emaworkbench.readthedocs.io/en/latest/)."
   ]
  },
  {
   "cell_type": "code",
   "execution_count": 1,
   "metadata": {},
   "outputs": [
    {
     "name": "stderr",
     "output_type": "stream",
     "text": [
      "/home/geodan-florisb/anaconda3/envs/CrowdSim/lib/python3.10/site-packages/ema_workbench-2.0.10-py3.10.egg/ema_workbench/em_framework/evaluators.py:21: UserWarning: ipyparallel not installed - IpyparalleEvaluator not available\n",
      "  warnings.warn(\n",
      "/home/geodan-florisb/anaconda3/envs/CrowdSim/lib/python3.10/site-packages/ema_workbench-2.0.10-py3.10.egg/ema_workbench/em_framework/optimization.py:48: ImportWarning: platypus based optimization not available\n",
      "  warnings.warn(\"platypus based optimization not available\", ImportWarning)\n",
      "/home/geodan-florisb/anaconda3/envs/CrowdSim/lib/python3.10/site-packages/ema_workbench-2.0.10-py3.10.egg/ema_workbench/connectors/__init__.py:17: ImportWarning: vensim connector not available\n",
      "  warnings.warn(\"vensim connector not available\", ImportWarning)\n",
      "/home/geodan-florisb/anaconda3/envs/CrowdSim/lib/python3.10/site-packages/ema_workbench-2.0.10-py3.10.egg/ema_workbench/connectors/__init__.py:27: ImportWarning: netlogo connector not available\n",
      "  warnings.warn(\"netlogo connector not available\", ImportWarning)\n"
     ]
    }
   ],
   "source": [
    "from ema_workbench import (perform_experiments, RealParameter, ema_logging,\n",
    "                           CategoricalParameter, MultiprocessingEvaluator,\n",
    "                           ScalarOutcome, IntegerParameter)\n",
    "from ema_workbench.em_framework.parameters import Category\n",
    "from ema_workbench.connectors.vadere import VadereModel\n",
    "import pandas as pd"
   ]
  },
  {
   "cell_type": "markdown",
   "metadata": {},
   "source": [
    "## Step 2: Setting up the model\n",
    "In this example we use the Vadere model from this research.  "
   ]
  },
  {
   "cell_type": "code",
   "execution_count": 2,
   "metadata": {},
   "outputs": [],
   "source": [
    "# This model saves scalar results to a density.txt and speed.txt file.\n",
    "model = VadereModel('model', \n",
    "                    vadere_jar='vadere-console.jar',\n",
    "                    processor_files=[\n",
    "                        'density.txt',\n",
    "                        'speed.txt'\n",
    "                    ],\n",
    "                    model_file='base_case.scenario',\n",
    "                    wd='/media/veracrypt1/thesis/thesis-drive/model/connector/output')"
   ]
  },
  {
   "cell_type": "markdown",
   "metadata": {},
   "source": [
    "Note that for specifying model uncertainties (and potential levers), the Vadere model class can change any variable present in the model file (Vadere scenario). To realise this, a exact location to the variable of interest in the Vadere scenario file has to be specified. Vadere scenario files follow a nested dictionary structure. Therefore, the exact location of the variable should be passed in a list of argumentes, passed as one string. See the example below, that variates the spawnNumber and maxSpawnNumber of source 0 and source 1 in the Vadere model."
   ]
  },
  {
   "cell_type": "code",
   "execution_count": 3,
   "metadata": {},
   "outputs": [],
   "source": [
    "model.uncertainties = [\n",
    "    IntegerParameter(\n",
    "        name='pedestrian flow source 0',\n",
    "        lower_bound=50,\n",
    "        upper_bound=100,\n",
    "        variable_name=[\n",
    "            '(\"scenario\", \"topography\", \"sources\", 0, \"spawnNumber\")',\n",
    "            '(\"scenario\", \"topography\", \"sources\", 0, \"maxSpawnNumberTotal\")'\n",
    "        ]\n",
    "    ),\n",
    "    IntegerParameter(\n",
    "        name='pedestrian flow source 1',\n",
    "        lower_bound=20,\n",
    "        upper_bound=30,\n",
    "        variable_name=[\n",
    "            '(\"scenario\", \"topography\", \"sources\", 1, \"spawnNumber\")',\n",
    "            '(\"scenario\", \"topography\", \"sources\", 1, \"maxSpawnNumberTotal\")'\n",
    "        ]\n",
    "    )\n",
    "]"
   ]
  },
  {
   "cell_type": "markdown",
   "metadata": {},
   "source": [
    "The model outcomes can be specified by passing the exact name as present in the output file (speed.txt here). The naming convention depends on the used Vadere data processors, but usally follows the name + id of the processor. When in doubt, it is advised to do a demo Vadere run using the Vadere software and to inspect the generated output files."
   ]
  },
  {
   "cell_type": "code",
   "execution_count": 4,
   "metadata": {},
   "outputs": [],
   "source": [
    "model.outcomes = [\n",
    "    ScalarOutcome('mean_area_speed_processor-PID4'),\n",
    "]"
   ]
  },
  {
   "cell_type": "markdown",
   "metadata": {},
   "source": [
    "## Step 3: Performing experiments\n",
    "The last step is to perform experiment with the Vadere model. Both sequential runs as runs in parallel are supported. Note however that a Vadere run can use a lot of RAM, and using all available cpu cors can lead to performance issues in some cases. "
   ]
  },
  {
   "cell_type": "code",
   "execution_count": 5,
   "metadata": {},
   "outputs": [
    {
     "data": {
      "text/plain": [
       "<Logger EMA (DEBUG)>"
      ]
     },
     "execution_count": 5,
     "metadata": {},
     "output_type": "execute_result"
    }
   ],
   "source": [
    "# enable EMA logging\n",
    "ema_logging.log_to_stderr(ema_logging.INFO)"
   ]
  },
  {
   "cell_type": "code",
   "execution_count": 6,
   "metadata": {},
   "outputs": [
    {
     "name": "stderr",
     "output_type": "stream",
     "text": [
      "[MainProcess/INFO] performing 2 scenarios * 1 policies * 1 model(s) = 2 experiments\n",
      "[MainProcess/INFO] performing experiments sequentially\n",
      "[MainProcess/INFO] 1 cases completed\n",
      "[MainProcess/INFO] 2 cases completed\n",
      "[MainProcess/INFO] experiments finished\n"
     ]
    }
   ],
   "source": [
    "# run in sequential 2 experiments\n",
    "results_sequential = perform_experiments(model, 2)"
   ]
  },
  {
   "cell_type": "code",
   "execution_count": 7,
   "metadata": {},
   "outputs": [
    {
     "name": "stderr",
     "output_type": "stream",
     "text": [
      "[MainProcess/INFO] pool started\n",
      "[MainProcess/INFO] performing 4 scenarios * 1 policies * 1 model(s) = 4 experiments\n",
      "[ForkPoolWorker-3/INFO] finalizing\n",
      "[ForkPoolWorker-4/INFO] finalizing\n",
      "[ForkPoolWorker-2/INFO] finalizing\n",
      "Process ForkPoolWorker-3:\n",
      "Traceback (most recent call last):\n",
      "  File \"/home/geodan-florisb/anaconda3/envs/CrowdSim/lib/python3.10/multiprocessing/process.py\", line 315, in _bootstrap\n",
      "    self.run()\n",
      "  File \"/home/geodan-florisb/anaconda3/envs/CrowdSim/lib/python3.10/multiprocessing/process.py\", line 108, in run\n",
      "    self._target(*self._args, **self._kwargs)\n",
      "  File \"/home/geodan-florisb/anaconda3/envs/CrowdSim/lib/python3.10/multiprocessing/pool.py\", line 125, in worker\n",
      "    result = (True, func(*args, **kwds))\n",
      "  File \"/home/geodan-florisb/anaconda3/envs/CrowdSim/lib/python3.10/site-packages/ema_workbench-2.0.10-py3.10.egg/ema_workbench/em_framework/ema_multiprocessing.py\", line 168, in worker\n",
      "    return experiment, experiment_runner.run_experiment(experiment)\n",
      "  File \"/home/geodan-florisb/anaconda3/envs/CrowdSim/lib/python3.10/site-packages/ema_workbench-2.0.10-py3.10.egg/ema_workbench/em_framework/experiment_runner.py\", line 85, in run_experiment\n",
      "    model.run_model(scenario, policy)\n",
      "  File \"/home/geodan-florisb/anaconda3/envs/CrowdSim/lib/python3.10/site-packages/ema_workbench-2.0.10-py3.10.egg/ema_workbench/util/ema_logging.py\", line 153, in wrapper\n",
      "    res = func(*args, **kwargs)\n",
      "  File \"/home/geodan-florisb/anaconda3/envs/CrowdSim/lib/python3.10/site-packages/ema_workbench-2.0.10-py3.10.egg/ema_workbench/em_framework/model.py\", line 337, in run_model\n",
      "    outputs = self.run_experiment(experiment)\n",
      "  File \"/home/geodan-florisb/anaconda3/envs/CrowdSim/lib/python3.10/site-packages/ema_workbench-2.0.10-py3.10.egg/ema_workbench/util/ema_logging.py\", line 153, in wrapper\n",
      "    res = func(*args, **kwargs)\n",
      "  File \"/home/geodan-florisb/anaconda3/envs/CrowdSim/lib/python3.10/site-packages/ema_workbench-2.0.10-py3.10.egg/ema_workbench/connectors/vadere.py\", line 180, in run_experiment\n",
      "    raise EMAError(\n",
      "ema_workbench.util.ema_exceptions.EMAError: Vadere model run resulted in no output files. Please check model. \n",
      " Vadere run error error: b'Mar 15, 2022 4:07:11 PM org.apache.commons.beanutils.FluentPropertyBeanIntrospector introspect\\nINFO: Error when creating PropertyDescriptor for public final void org.apache.commons.configuration2.AbstractConfiguration.setProperty(java.lang.String,java.lang.Object)! Ignoring this property.\\n'\n",
      "Process ForkPoolWorker-4:\n",
      "Process ForkPoolWorker-2:\n",
      "Traceback (most recent call last):\n",
      "Traceback (most recent call last):\n",
      "  File \"/home/geodan-florisb/anaconda3/envs/CrowdSim/lib/python3.10/multiprocessing/process.py\", line 315, in _bootstrap\n",
      "    self.run()\n",
      "  File \"/home/geodan-florisb/anaconda3/envs/CrowdSim/lib/python3.10/multiprocessing/process.py\", line 315, in _bootstrap\n",
      "    self.run()\n",
      "  File \"/home/geodan-florisb/anaconda3/envs/CrowdSim/lib/python3.10/multiprocessing/process.py\", line 108, in run\n",
      "    self._target(*self._args, **self._kwargs)\n",
      "  File \"/home/geodan-florisb/anaconda3/envs/CrowdSim/lib/python3.10/multiprocessing/process.py\", line 108, in run\n",
      "    self._target(*self._args, **self._kwargs)\n",
      "  File \"/home/geodan-florisb/anaconda3/envs/CrowdSim/lib/python3.10/multiprocessing/pool.py\", line 125, in worker\n",
      "    result = (True, func(*args, **kwds))\n",
      "  File \"/home/geodan-florisb/anaconda3/envs/CrowdSim/lib/python3.10/multiprocessing/pool.py\", line 125, in worker\n",
      "    result = (True, func(*args, **kwds))\n",
      "  File \"/home/geodan-florisb/anaconda3/envs/CrowdSim/lib/python3.10/site-packages/ema_workbench-2.0.10-py3.10.egg/ema_workbench/em_framework/ema_multiprocessing.py\", line 168, in worker\n",
      "    return experiment, experiment_runner.run_experiment(experiment)\n",
      "  File \"/home/geodan-florisb/anaconda3/envs/CrowdSim/lib/python3.10/site-packages/ema_workbench-2.0.10-py3.10.egg/ema_workbench/em_framework/ema_multiprocessing.py\", line 168, in worker\n",
      "    return experiment, experiment_runner.run_experiment(experiment)\n",
      "  File \"/home/geodan-florisb/anaconda3/envs/CrowdSim/lib/python3.10/site-packages/ema_workbench-2.0.10-py3.10.egg/ema_workbench/em_framework/experiment_runner.py\", line 85, in run_experiment\n",
      "    model.run_model(scenario, policy)\n",
      "  File \"/home/geodan-florisb/anaconda3/envs/CrowdSim/lib/python3.10/site-packages/ema_workbench-2.0.10-py3.10.egg/ema_workbench/em_framework/experiment_runner.py\", line 85, in run_experiment\n",
      "    model.run_model(scenario, policy)\n",
      "  File \"/home/geodan-florisb/anaconda3/envs/CrowdSim/lib/python3.10/site-packages/ema_workbench-2.0.10-py3.10.egg/ema_workbench/util/ema_logging.py\", line 153, in wrapper\n",
      "    res = func(*args, **kwargs)\n",
      "  File \"/home/geodan-florisb/anaconda3/envs/CrowdSim/lib/python3.10/site-packages/ema_workbench-2.0.10-py3.10.egg/ema_workbench/util/ema_logging.py\", line 153, in wrapper\n",
      "    res = func(*args, **kwargs)\n",
      "  File \"/home/geodan-florisb/anaconda3/envs/CrowdSim/lib/python3.10/site-packages/ema_workbench-2.0.10-py3.10.egg/ema_workbench/em_framework/model.py\", line 337, in run_model\n",
      "    outputs = self.run_experiment(experiment)\n",
      "  File \"/home/geodan-florisb/anaconda3/envs/CrowdSim/lib/python3.10/site-packages/ema_workbench-2.0.10-py3.10.egg/ema_workbench/em_framework/model.py\", line 337, in run_model\n",
      "    outputs = self.run_experiment(experiment)\n",
      "  File \"/home/geodan-florisb/anaconda3/envs/CrowdSim/lib/python3.10/site-packages/ema_workbench-2.0.10-py3.10.egg/ema_workbench/util/ema_logging.py\", line 153, in wrapper\n",
      "    res = func(*args, **kwargs)\n",
      "  File \"/home/geodan-florisb/anaconda3/envs/CrowdSim/lib/python3.10/site-packages/ema_workbench-2.0.10-py3.10.egg/ema_workbench/connectors/vadere.py\", line 180, in run_experiment\n",
      "    raise EMAError(\n",
      "  File \"/home/geodan-florisb/anaconda3/envs/CrowdSim/lib/python3.10/site-packages/ema_workbench-2.0.10-py3.10.egg/ema_workbench/util/ema_logging.py\", line 153, in wrapper\n",
      "    res = func(*args, **kwargs)\n",
      "ema_workbench.util.ema_exceptions.EMAError: Vadere model run resulted in no output files. Please check model. \n",
      " Vadere run error error: b'Mar 15, 2022 4:07:10 PM org.apache.commons.beanutils.FluentPropertyBeanIntrospector introspect\\nINFO: Error when creating PropertyDescriptor for public final void org.apache.commons.configuration2.AbstractConfiguration.setProperty(java.lang.String,java.lang.Object)! Ignoring this property.\\n'\n",
      "  File \"/home/geodan-florisb/anaconda3/envs/CrowdSim/lib/python3.10/site-packages/ema_workbench-2.0.10-py3.10.egg/ema_workbench/connectors/vadere.py\", line 180, in run_experiment\n",
      "    raise EMAError(\n",
      "ema_workbench.util.ema_exceptions.EMAError: Vadere model run resulted in no output files. Please check model. \n",
      " Vadere run error error: b'Mar 15, 2022 4:07:11 PM org.apache.commons.beanutils.FluentPropertyBeanIntrospector introspect\\nINFO: Error when creating PropertyDescriptor for public final void org.apache.commons.configuration2.AbstractConfiguration.setProperty(java.lang.String,java.lang.Object)! Ignoring this property.\\n'\n",
      "[ForkPoolWorker-1/INFO] finalizing\n",
      "Process ForkPoolWorker-1:\n",
      "Traceback (most recent call last):\n",
      "  File \"/home/geodan-florisb/anaconda3/envs/CrowdSim/lib/python3.10/multiprocessing/process.py\", line 315, in _bootstrap\n",
      "    self.run()\n",
      "  File \"/home/geodan-florisb/anaconda3/envs/CrowdSim/lib/python3.10/multiprocessing/process.py\", line 108, in run\n",
      "    self._target(*self._args, **self._kwargs)\n",
      "  File \"/home/geodan-florisb/anaconda3/envs/CrowdSim/lib/python3.10/multiprocessing/pool.py\", line 125, in worker\n",
      "    result = (True, func(*args, **kwds))\n",
      "  File \"/home/geodan-florisb/anaconda3/envs/CrowdSim/lib/python3.10/site-packages/ema_workbench-2.0.10-py3.10.egg/ema_workbench/em_framework/ema_multiprocessing.py\", line 168, in worker\n",
      "    return experiment, experiment_runner.run_experiment(experiment)\n",
      "  File \"/home/geodan-florisb/anaconda3/envs/CrowdSim/lib/python3.10/site-packages/ema_workbench-2.0.10-py3.10.egg/ema_workbench/em_framework/experiment_runner.py\", line 85, in run_experiment\n",
      "    model.run_model(scenario, policy)\n",
      "  File \"/home/geodan-florisb/anaconda3/envs/CrowdSim/lib/python3.10/site-packages/ema_workbench-2.0.10-py3.10.egg/ema_workbench/util/ema_logging.py\", line 153, in wrapper\n",
      "    res = func(*args, **kwargs)\n",
      "  File \"/home/geodan-florisb/anaconda3/envs/CrowdSim/lib/python3.10/site-packages/ema_workbench-2.0.10-py3.10.egg/ema_workbench/em_framework/model.py\", line 337, in run_model\n",
      "    outputs = self.run_experiment(experiment)\n",
      "  File \"/home/geodan-florisb/anaconda3/envs/CrowdSim/lib/python3.10/site-packages/ema_workbench-2.0.10-py3.10.egg/ema_workbench/util/ema_logging.py\", line 153, in wrapper\n",
      "    res = func(*args, **kwargs)\n",
      "  File \"/home/geodan-florisb/anaconda3/envs/CrowdSim/lib/python3.10/site-packages/ema_workbench-2.0.10-py3.10.egg/ema_workbench/connectors/vadere.py\", line 180, in run_experiment\n",
      "    raise EMAError(\n",
      "ema_workbench.util.ema_exceptions.EMAError: Vadere model run resulted in no output files. Please check model. \n",
      " Vadere run error error: b'Mar 15, 2022 4:07:11 PM org.apache.commons.beanutils.FluentPropertyBeanIntrospector introspect\\nINFO: Error when creating PropertyDescriptor for public final void org.apache.commons.configuration2.AbstractConfiguration.setProperty(java.lang.String,java.lang.Object)! Ignoring this property.\\n'\n"
     ]
    }
   ],
   "source": [
    "# run 4 experiments in parallel\n",
    "with MultiprocessingEvaluator(model, n_processes=4) as evaluator:\n",
    "        results_parallel = evaluator.perform_experiments(4)"
   ]
  },
  {
   "cell_type": "markdown",
   "metadata": {},
   "source": [
    "Inspect the results"
   ]
  },
  {
   "cell_type": "code",
   "execution_count": null,
   "metadata": {},
   "outputs": [],
   "source": [
    "results_sequential[0]"
   ]
  },
  {
   "cell_type": "code",
   "execution_count": null,
   "metadata": {},
   "outputs": [],
   "source": [
    "pd.DataFrame(results_sequential[1])"
   ]
  },
  {
   "cell_type": "code",
   "execution_count": null,
   "metadata": {},
   "outputs": [],
   "source": [
    "results_parallel[0]"
   ]
  },
  {
   "cell_type": "code",
   "execution_count": null,
   "metadata": {},
   "outputs": [],
   "source": [
    "pd.DataFrame(results_parallel[1])"
   ]
  }
 ],
 "metadata": {
  "interpreter": {
   "hash": "0459880e260e094fc619a34e1d6d301a09b9955f38537d5834804b8e9b557f55"
  },
  "kernelspec": {
   "display_name": "Python 3.10.0 ('CrowdSim')",
   "language": "python",
   "name": "python3"
  },
  "language_info": {
   "codemirror_mode": {
    "name": "ipython",
    "version": 3
   },
   "file_extension": ".py",
   "mimetype": "text/x-python",
   "name": "python",
   "nbconvert_exporter": "python",
   "pygments_lexer": "ipython3",
   "version": "3.10.0"
  },
  "orig_nbformat": 4
 },
 "nbformat": 4,
 "nbformat_minor": 2
}
